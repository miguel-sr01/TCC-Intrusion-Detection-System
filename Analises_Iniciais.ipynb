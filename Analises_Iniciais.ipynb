{
 "cells": [
  {
   "cell_type": "code",
   "execution_count": 1,
   "id": "5fed485a",
   "metadata": {
    "scrolled": true
   },
   "outputs": [
    {
     "name": "stdout",
     "output_type": "stream",
     "text": [
      "Quantidade de linhas na segunda-feira:  529918\n",
      "Quantidade de benignos na segunda-feira:  529918\n",
      "Razão de benignos na segunda-feira:  1.0\n",
      "\n",
      "\n",
      "Quantidade de linhas na amostra da segunda-feira:  52991\n",
      "Quantidade de benignos na amostra da segunda-feira:  52991\n",
      "Razão de benignos na amostra da segunda-feira:  1.0\n"
     ]
    }
   ],
   "source": [
    "#Monday\n",
    "import pandas as pd\n",
    "df_mon = pd.read_csv('MachineLearningCSV/MachineLearningCVE/Monday-WorkingHours.pcap_ISCX.csv',sep=',')\n",
    "df_mon.columns = df_mon.columns.str.replace(' ', '')\n",
    "\n",
    "# For the entire dataset\n",
    "total_size = len(df_mon.index)\n",
    "benign_in_total = len(df_mon[df_mon.Label == 'BENIGN'])\n",
    "print(\"Quantidade de linhas na segunda-feira: \",total_size)\n",
    "print(\"Quantidade de benignos na segunda-feira: \",benign_in_total)\n",
    "print(\"Razão de benignos na segunda-feira: \", benign_in_total/total_size)\n",
    "\n",
    "print(\"\\n\")\n",
    "# For the sample (10% of the dataset):\n",
    "sample_size = int(total_size/10)\n",
    "sample = df_mon.sample(n=sample_size, frac=None, replace=False, weights=None, random_state=None, axis=None)\n",
    "benign_in_sample = len(sample[sample.Label == 'BENIGN'])\n",
    "print(\"Quantidade de linhas na amostra da segunda-feira: \",sample_size)\n",
    "print(\"Quantidade de benignos na amostra da segunda-feira: \",benign_in_sample)\n",
    "print(\"Razão de benignos na amostra da segunda-feira: \", benign_in_sample/sample_size)\n",
    "\n",
    "\n",
    "\n"
   ]
  },
  {
   "cell_type": "code",
   "execution_count": 2,
   "id": "91a02d3e",
   "metadata": {},
   "outputs": [
    {
     "name": "stdout",
     "output_type": "stream",
     "text": [
      "Quantidade de linhas na terça-feira:  445909\n",
      "Quantidade de benignos na terça-feira:  432074\n",
      "Razão de benignos na terça-feira:  0.9689734901067258\n",
      "\n",
      "\n",
      "Quantidade de linhas na amostra da terça-feira:  44590\n",
      "Quantidade de benignos na amostra da terça-feira:  43234\n",
      "Razão de benignos na amostra da terça-feira:  0.96958959407939\n"
     ]
    }
   ],
   "source": [
    "import pandas as pd\n",
    "df_tues = pd.read_csv('MachineLearningCSV/MachineLearningCVE/Tuesday-WorkingHours.pcap_ISCX.csv',sep=',')\n",
    "df_tues.columns = df_tues.columns.str.replace(' ', '')\n",
    "\n",
    "# For the entire dataset\n",
    "total_size = len(df_tues.index)\n",
    "benign_in_total = len(df_tues[df_tues.Label == 'BENIGN'])\n",
    "print(\"Quantidade de linhas na terça-feira: \",total_size)\n",
    "print(\"Quantidade de benignos na terça-feira: \",benign_in_total)\n",
    "print(\"Razão de benignos na terça-feira: \", benign_in_total/total_size)\n",
    "\n",
    "print(\"\\n\")\n",
    "# For the sample (10% of the dataset):\n",
    "sample_size = int(total_size/10)\n",
    "sample = df_tues.sample(n=sample_size, frac=None, replace=False, weights=None, random_state=None, axis=None)\n",
    "benign_in_sample = len(sample[sample.Label == 'BENIGN'])\n",
    "print(\"Quantidade de linhas na amostra da terça-feira: \",sample_size)\n",
    "print(\"Quantidade de benignos na amostra da terça-feira: \",benign_in_sample)\n",
    "print(\"Razão de benignos na amostra da terça-feira: \", benign_in_sample/sample_size)"
   ]
  },
  {
   "cell_type": "code",
   "execution_count": null,
   "id": "674dbc6b",
   "metadata": {},
   "outputs": [],
   "source": [
    "import pandas as pd\n",
    "df_wed = pd.read_csv('MachineLearningCSV/MachineLearningCVE/Wednesday-workingHours.pcap_ISCX.csv',sep=',')\n",
    "df_wed.columns = df_wed.columns.str.replace(' ', '')\n",
    "\n",
    "# For the entire dataset\n",
    "total_size = len(df_wed.index)\n",
    "benign_in_total = len(df_wed[df_wed.Label == 'BENIGN'])\n",
    "print(\"Quantidade de linhas na quarta-feira: \",total_size)\n",
    "print(\"Quantidade de benignos na quarta-feira: \",benign_in_total)\n",
    "print(\"Razão de benignos na quarta-feira \", benign_in_total/total_size)\n",
    "\n",
    "print(\"\\n\")\n",
    "# For the sample (10% of the dataset):\n",
    "sample_size = int(total_size/10)\n",
    "sample = df_wed.sample(n=sample_size, frac=None, replace=False, weights=None, random_state=None, axis=None)\n",
    "benign_in_sample = len(sample[sample.Label == 'BENIGN'])\n",
    "print(\"Quantidade de linhas na amostra da quarta-feira: \",sample_size)\n",
    "print(\"Quantidade de benignos na amostra da quarta-feira: \",benign_in_sample)\n",
    "print(\"Razão de benignos na amostra da quarta-feira:\", benign_in_sample/sample_size)"
   ]
  },
  {
   "cell_type": "code",
   "execution_count": null,
   "id": "446453ad",
   "metadata": {},
   "outputs": [],
   "source": [
    "import pandas as pd\n",
    "df_thur1 = pd.read_csv('MachineLearningCSV/MachineLearningCVE/Thursday-WorkingHours-Morning-WebAttacks.pcap_ISCX.csv',sep=',')\n",
    "df_thur1.columns = df_thur1.columns.str.replace(' ', '')\n",
    "\n",
    "# For the entire dataset\n",
    "total_size = len(df_thur1.index)\n",
    "benign_in_total = len(df_thur1[df_thur1.Label == 'BENIGN'])\n",
    "print(\"Quantidade de linhas na quinta-feira (Morning): \",total_size)\n",
    "print(\"Quantidade de benignos na quinta-feira (Morning): \",benign_in_total)\n",
    "print(\"Razão de benignos na quinta-feira (Morning): \", benign_in_total/total_size)\n",
    "\n",
    "print(\"\\n\")\n",
    "# For the sample (10% of the dataset):\n",
    "sample_size = int(total_size/10)\n",
    "sample = df_thur1.sample(n=sample_size, frac=None, replace=False, weights=None, random_state=None, axis=None)\n",
    "benign_in_sample = len(sample[sample.Label == 'BENIGN'])\n",
    "print(\"Quantidade de linhas na amostra da quinta-feira (Morning): \",sample_size)\n",
    "print(\"Quantidade de benignos na amostra da quinta-feira (Morning): \",benign_in_sample)\n",
    "print(\"Razão de benignos na amostra da quinta-feira (Morning): \", benign_in_sample/sample_size)"
   ]
  },
  {
   "cell_type": "code",
   "execution_count": null,
   "id": "92143284",
   "metadata": {},
   "outputs": [],
   "source": [
    "import pandas as pd\n",
    "df_thur2 = pd.read_csv('MachineLearningCSV/MachineLearningCVE/Thursday-WorkingHours-Afternoon-Infilteration.pcap_ISCX.csv',sep=',')\n",
    "df_thur2.columns = df_thur2.columns.str.replace(' ', '')\n",
    "\n",
    "# For the entire dataset\n",
    "total_size = len(df_thur2.index)\n",
    "benign_in_total = len(df_thur2[df_thur2.Label == 'BENIGN'])\n",
    "print(\"Quantidade de linhas na quinta-feira (Afternoon): \",total_size)\n",
    "print(\"Quantidade de benignos na quinta-feira (Afternoon): \",benign_in_total)\n",
    "print(\"Razão de benignos na quinta-feira (Afternoon): \", benign_in_total/total_size)\n",
    "\n",
    "print(\"\\n\")\n",
    "# For the sample (10% of the dataset):\n",
    "sample_size = int(total_size/10)\n",
    "sample = df_thur2.sample(n=sample_size, frac=None, replace=False, weights=None, random_state=None, axis=None)\n",
    "benign_in_sample = len(sample[sample.Label == 'BENIGN'])\n",
    "print(\"Quantidade de linhas na amostra da quinta-feira (Afternoon): \",sample_size)\n",
    "print(\"Quantidade de benignos na amostra da quinta-feira (Afternoon): \",benign_in_sample)\n",
    "print(\"Razão de benignos na amostra da quinta-feira (Afternoon): \", benign_in_sample/sample_size)"
   ]
  },
  {
   "cell_type": "code",
   "execution_count": null,
   "id": "f9cab2af",
   "metadata": {},
   "outputs": [],
   "source": [
    "import pandas as pd\n",
    "df_friday1 = pd.read_csv('MachineLearningCSV/MachineLearningCVE/Friday-WorkingHours-Morning.pcap_ISCX.csv',sep=',')\n",
    "df_friday1.columns = df_friday1.columns.str.replace(' ', '')\n",
    "\n",
    "# For the entire dataset\n",
    "total_size = len(df_friday1.index)\n",
    "benign_in_total = len(df_friday1[df_friday1.Label == 'BENIGN'])\n",
    "print(\"Quantidade de linhas na sexta-feira (Morning): \",total_size)\n",
    "print(\"Quantidade de benignos na sexta-feira (Morning): \",benign_in_total)\n",
    "print(\"Razão de benignos na quinta-sexta (Morning): \", benign_in_total/total_size)\n",
    "\n",
    "print(\"\\n\")\n",
    "# For the sample (10% of the dataset):\n",
    "sample_size = int(total_size/10)\n",
    "sample = df_friday1.sample(n=sample_size, frac=None, replace=False, weights=None, random_state=None, axis=None)\n",
    "benign_in_sample = len(sample[sample.Label == 'BENIGN'])\n",
    "print(\"Quantidade de linhas na amostra da sexta-feira (Morning): \",sample_size)\n",
    "print(\"Quantidade de benignos na amostra da sexta-feira (Morning): \",benign_in_sample)\n",
    "print(\"Razão de benignos na amostra da sexta-feira (Morning): \", benign_in_sample/sample_size)"
   ]
  },
  {
   "cell_type": "code",
   "execution_count": null,
   "id": "13737d12",
   "metadata": {},
   "outputs": [],
   "source": [
    "import pandas as pd\n",
    "df_friday2 = pd.read_csv('MachineLearningCSV/MachineLearningCVE/Friday-WorkingHours-Afternoon-PortScan.pcap_ISCX.csv',sep=',')\n",
    "df_friday2.columns = df_friday2.columns.str.replace(' ', '')\n",
    "\n",
    "# For the entire dataset\n",
    "total_size = len(df_friday2.index)\n",
    "benign_in_total = len(df_friday2[df_friday2.Label == 'BENIGN'])\n",
    "print(\"Quantidade de linhas na sexta-feira (AfternoonPortScan): \",total_size)\n",
    "print(\"Quantidade de benignos na sexta-feira (AfternoonPortScan): \",benign_in_total)\n",
    "print(\"Razão de benignos na sexta-feira (AfternoonPortScan): \", benign_in_total/total_size)\n",
    "\n",
    "print(\"\\n\")\n",
    "# For the sample (10% of the dataset):\n",
    "sample_size = int(total_size/10)\n",
    "sample = df_friday2.sample(n=sample_size, frac=None, replace=False, weights=None, random_state=None, axis=None)\n",
    "benign_in_sample = len(sample[sample.Label == 'BENIGN'])\n",
    "print(\"Quantidade de linhas na amostra da sexta-feira (AfternoonPortScan): \",sample_size)\n",
    "print(\"Quantidade de benignos na amostra da sexta-feira (AfternoonPortScan): \",benign_in_sample)\n",
    "print(\"Razão de benignos na amostra da sexta-feira (AfternoonPortScan): \", benign_in_sample/sample_size)"
   ]
  },
  {
   "cell_type": "code",
   "execution_count": null,
   "id": "5ab98fe9",
   "metadata": {},
   "outputs": [],
   "source": [
    "import pandas as pd\n",
    "df_friday3 = pd.read_csv('MachineLearningCSV/MachineLearningCVE/Friday-WorkingHours-Afternoon-DDos.pcap_ISCX.csv',sep=',')\n",
    "df_friday3.columns = df_friday3.columns.str.replace(' ', '')\n",
    "\n",
    "# For the entire dataset\n",
    "total_size = len(df_friday3.index)\n",
    "benign_in_total = len(df_friday3[df_friday3.Label == 'BENIGN'])\n",
    "print(\"Quantidade de linhas na sexta-feira (AfternoonDDOS): \",total_size)\n",
    "print(\"Quantidade de benignos na sexta-feira (AfternoonDDOS): \",benign_in_total)\n",
    "print(\"Razão de benignos na sexta-feira (AfternoonDDOS): \", benign_in_total/total_size)\n",
    "\n",
    "print(\"\\n\")\n",
    "# For the sample (10% of the dataset):\n",
    "sample_size = int(total_size/10)\n",
    "sample = df_friday3.sample(n=sample_size, frac=None, replace=False, weights=None, random_state=None, axis=None)\n",
    "benign_in_sample = len(sample[sample.Label == 'BENIGN'])\n",
    "print(\"Quantidade de linhas na amostra da sexta-feira (AfternoonDDOS): \",sample_size)\n",
    "print(\"Quantidade de benignos na amostra da sexta-feira (AfternoonDDOS): \",benign_in_sample)\n",
    "print(\"Razão de benignos na amostra da sexta-feira (AfternoonDDOS): \", benign_in_sample/sample_size)"
   ]
  },
  {
   "cell_type": "code",
   "execution_count": null,
   "id": "1c020043",
   "metadata": {},
   "outputs": [],
   "source": []
  }
 ],
 "metadata": {
  "kernelspec": {
   "display_name": "Python 3 (ipykernel)",
   "language": "python",
   "name": "python3"
  },
  "language_info": {
   "codemirror_mode": {
    "name": "ipython",
    "version": 3
   },
   "file_extension": ".py",
   "mimetype": "text/x-python",
   "name": "python",
   "nbconvert_exporter": "python",
   "pygments_lexer": "ipython3",
   "version": "3.9.5"
  }
 },
 "nbformat": 4,
 "nbformat_minor": 5
}
