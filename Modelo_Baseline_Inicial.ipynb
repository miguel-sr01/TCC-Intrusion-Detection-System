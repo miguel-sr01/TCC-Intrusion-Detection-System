{
 "cells": [
  {
   "cell_type": "markdown",
   "id": "19f6444f",
   "metadata": {},
   "source": [
    "<font size=\"4\">Imports </font>"
   ]
  },
  {
   "cell_type": "code",
   "execution_count": 1,
   "id": "0975eab0",
   "metadata": {},
   "outputs": [],
   "source": [
    "import pandas as pd\n",
    "import numpy as np\n",
    "import matplotlib.pyplot as plt\n",
    "import seaborn as sns\n",
    "import matplotlib.pyplot as plt\n",
    "\n",
    "\n",
    "from sklearn.model_selection import train_test_split\n",
    "from sklearn.metrics import mean_absolute_error\n",
    "from sklearn.metrics import precision_score, recall_score, f1_score, accuracy_score\n",
    "from sklearn.pipeline import make_pipeline\n",
    "from sklearn.metrics import confusion_matrix\n",
    "from sklearn.preprocessing import StandardScaler\n",
    "from sklearn.metrics import RocCurveDisplay\n",
    "\n",
    "\n",
    "from sklearn.ensemble import RandomForestClassifier\n",
    "from sklearn.calibration import CalibratedClassifierCV\n",
    "from sklearn.linear_model import LogisticRegression\n",
    "from sklearn.neural_network import MLPClassifier\n",
    "\n",
    "# machine learning\n",
    "from sklearn.metrics import plot_roc_curve\n",
    "from sklearn.datasets import make_classification\n",
    "from sklearn import datasets, metrics, model_selection, svm\n",
    "from sklearn.metrics import roc_curve, roc_auc_score, auc\n",
    "from sklearn.model_selection import train_test_split\n",
    "from sklearn.svm import SVC, LinearSVC\n",
    "\n",
    "\n",
    "\n"
   ]
  },
  {
   "cell_type": "markdown",
   "id": "659f764d",
   "metadata": {},
   "source": [
    "<font size=\"4\">Choosing Table </font>"
   ]
  },
  {
   "cell_type": "code",
   "execution_count": 2,
   "id": "06a23ea4",
   "metadata": {},
   "outputs": [],
   "source": [
    "#Tuesday\n",
    "df_treino = pd.read_csv('/home/jupyter/Jupyter/notebook/share/Dados/10%Wednesday.pcap_ISCX.csv',sep=',')\n",
    "df_treino.columns = df_treino.columns.str.replace(' ', '')\n",
    "#Renomear dfs...\n",
    "df_teste = pd.read_csv('/home/jupyter/Jupyter/notebook/share/Dados/Wednesday-workingHours.pcap_ISCX.csv',sep=',')\n",
    "df_teste.columns = df_teste.columns.str.replace(' ', '')"
   ]
  },
  {
   "cell_type": "code",
   "execution_count": 3,
   "id": "06e0b4ca",
   "metadata": {},
   "outputs": [
    {
     "data": {
      "text/plain": [
       "Label\n",
       "BENIGN              440031\n",
       "DoS GoldenEye        10293\n",
       "DoS Hulk            231073\n",
       "DoS Slowhttptest      5499\n",
       "DoS slowloris         5796\n",
       "Heartbleed              11\n",
       "Name: DestinationPort, dtype: int64"
      ]
     },
     "execution_count": 3,
     "metadata": {},
     "output_type": "execute_result"
    }
   ],
   "source": [
    "df_teste.groupby(\"Label\").count()[\"DestinationPort\"]"
   ]
  },
  {
   "cell_type": "markdown",
   "id": "aeaf2fb5",
   "metadata": {},
   "source": [
    "<font size=\"4\">Creating binary Target column </font>"
   ]
  },
  {
   "cell_type": "code",
   "execution_count": 4,
   "id": "b48e2065",
   "metadata": {},
   "outputs": [
    {
     "data": {
      "text/plain": [
       "array([0, 1])"
      ]
     },
     "execution_count": 4,
     "metadata": {},
     "output_type": "execute_result"
    }
   ],
   "source": [
    "df_treino[\"Target\"] = np.where(df_treino['Label'] == 'BENIGN', 0, 1)\n",
    "df_treino.Target.unique()\n",
    "df_teste[\"Target\"] = np.where(df_teste['Label'] == 'BENIGN', 0, 1)\n",
    "df_teste.Target.unique()"
   ]
  },
  {
   "cell_type": "markdown",
   "id": "56d4360d",
   "metadata": {},
   "source": [
    " <font size=\"4\">Droping Label table </font>"
   ]
  },
  {
   "cell_type": "code",
   "execution_count": 5,
   "id": "d39f947d",
   "metadata": {},
   "outputs": [
    {
     "data": {
      "text/plain": [
       "Index(['DestinationPort', 'FlowDuration', 'TotalFwdPackets',\n",
       "       'TotalBackwardPackets', 'TotalLengthofFwdPackets',\n",
       "       'TotalLengthofBwdPackets', 'FwdPacketLengthMax', 'FwdPacketLengthMin',\n",
       "       'FwdPacketLengthMean', 'FwdPacketLengthStd', 'BwdPacketLengthMax',\n",
       "       'BwdPacketLengthMin', 'BwdPacketLengthMean', 'BwdPacketLengthStd',\n",
       "       'FlowBytes/s', 'FlowPackets/s', 'FlowIATMean', 'FlowIATStd',\n",
       "       'FlowIATMax', 'FlowIATMin', 'FwdIATTotal', 'FwdIATMean', 'FwdIATStd',\n",
       "       'FwdIATMax', 'FwdIATMin', 'BwdIATTotal', 'BwdIATMean', 'BwdIATStd',\n",
       "       'BwdIATMax', 'BwdIATMin', 'FwdPSHFlags', 'BwdPSHFlags', 'FwdURGFlags',\n",
       "       'BwdURGFlags', 'FwdHeaderLength', 'BwdHeaderLength', 'FwdPackets/s',\n",
       "       'BwdPackets/s', 'MinPacketLength', 'MaxPacketLength',\n",
       "       'PacketLengthMean', 'PacketLengthStd', 'PacketLengthVariance',\n",
       "       'FINFlagCount', 'SYNFlagCount', 'RSTFlagCount', 'PSHFlagCount',\n",
       "       'ACKFlagCount', 'URGFlagCount', 'CWEFlagCount', 'ECEFlagCount',\n",
       "       'Down/UpRatio', 'AveragePacketSize', 'AvgFwdSegmentSize',\n",
       "       'AvgBwdSegmentSize', 'FwdHeaderLength.1', 'FwdAvgBytes/Bulk',\n",
       "       'FwdAvgPackets/Bulk', 'FwdAvgBulkRate', 'BwdAvgBytes/Bulk',\n",
       "       'BwdAvgPackets/Bulk', 'BwdAvgBulkRate', 'SubflowFwdPackets',\n",
       "       'SubflowFwdBytes', 'SubflowBwdPackets', 'SubflowBwdBytes',\n",
       "       'Init_Win_bytes_forward', 'Init_Win_bytes_backward', 'act_data_pkt_fwd',\n",
       "       'min_seg_size_forward', 'ActiveMean', 'ActiveStd', 'ActiveMax',\n",
       "       'ActiveMin', 'IdleMean', 'IdleStd', 'IdleMax', 'IdleMin', 'Target'],\n",
       "      dtype='object')"
      ]
     },
     "execution_count": 5,
     "metadata": {},
     "output_type": "execute_result"
    }
   ],
   "source": [
    "df_treino = df_treino.drop([\"Label\"], axis=1)\n",
    "df_treino = df_treino.drop([\"TableType\"], axis=1)\n",
    "df_teste = df_teste.drop([\"Label\"], axis=1)\n",
    "\n",
    "df_treino.columns"
   ]
  },
  {
   "cell_type": "markdown",
   "id": "e9d22efa",
   "metadata": {},
   "source": [
    " <font size=\"4\">Columns with NULL values </font>"
   ]
  },
  {
   "cell_type": "code",
   "execution_count": 6,
   "id": "0779cc20",
   "metadata": {
    "scrolled": true
   },
   "outputs": [
    {
     "data": {
      "text/plain": [
       "DestinationPort            0\n",
       "FlowDuration               0\n",
       "TotalFwdPackets            0\n",
       "TotalBackwardPackets       0\n",
       "TotalLengthofFwdPackets    0\n",
       "                          ..\n",
       "IdleMean                   0\n",
       "IdleStd                    0\n",
       "IdleMax                    0\n",
       "IdleMin                    0\n",
       "Target                     0\n",
       "Length: 79, dtype: int64"
      ]
     },
     "execution_count": 6,
     "metadata": {},
     "output_type": "execute_result"
    }
   ],
   "source": [
    "df_treino.isnull().sum()\n",
    "df_teste.isnull().sum()"
   ]
  },
  {
   "cell_type": "markdown",
   "id": "eb7aff39",
   "metadata": {},
   "source": [
    " <font size=\"4\">0 = Benign || 1 = Atack </font>"
   ]
  },
  {
   "cell_type": "code",
   "execution_count": 7,
   "id": "d98d647e",
   "metadata": {},
   "outputs": [
    {
     "data": {
      "text/plain": [
       "Target\n",
       "0    440031\n",
       "1    252672\n",
       "Name: DestinationPort, dtype: int64"
      ]
     },
     "execution_count": 7,
     "metadata": {},
     "output_type": "execute_result"
    }
   ],
   "source": [
    "df_teste.groupby(\"Target\").count()[\"DestinationPort\"]"
   ]
  },
  {
   "cell_type": "code",
   "execution_count": 8,
   "id": "9dfc89e9",
   "metadata": {
    "scrolled": true
   },
   "outputs": [
    {
     "data": {
      "text/plain": [
       "[('DestinationPort', 0),\n",
       " ('FlowDuration', 0),\n",
       " ('TotalFwdPackets', 0),\n",
       " ('TotalBackwardPackets', 0),\n",
       " ('TotalLengthofFwdPackets', 0),\n",
       " ('TotalLengthofBwdPackets', 0),\n",
       " ('FwdPacketLengthMax', 0),\n",
       " ('FwdPacketLengthMin', 0),\n",
       " ('FwdPacketLengthMean', 0),\n",
       " ('FwdPacketLengthStd', 0),\n",
       " ('BwdPacketLengthMax', 0),\n",
       " ('BwdPacketLengthMin', 0),\n",
       " ('BwdPacketLengthMean', 0),\n",
       " ('BwdPacketLengthStd', 0),\n",
       " ('FlowBytes/s', 32),\n",
       " ('FlowPackets/s', 131),\n",
       " ('FlowIATMean', 0),\n",
       " ('FlowIATStd', 0),\n",
       " ('FlowIATMax', 0),\n",
       " ('FlowIATMin', 0),\n",
       " ('FwdIATTotal', 0),\n",
       " ('FwdIATMean', 0),\n",
       " ('FwdIATStd', 0),\n",
       " ('FwdIATMax', 0),\n",
       " ('FwdIATMin', 0),\n",
       " ('BwdIATTotal', 0),\n",
       " ('BwdIATMean', 0),\n",
       " ('BwdIATStd', 0),\n",
       " ('BwdIATMax', 0),\n",
       " ('BwdIATMin', 0),\n",
       " ('FwdPSHFlags', 0),\n",
       " ('BwdPSHFlags', 0),\n",
       " ('FwdURGFlags', 0),\n",
       " ('BwdURGFlags', 0),\n",
       " ('FwdHeaderLength', 0),\n",
       " ('BwdHeaderLength', 0),\n",
       " ('FwdPackets/s', 0),\n",
       " ('BwdPackets/s', 0),\n",
       " ('MinPacketLength', 0),\n",
       " ('MaxPacketLength', 0),\n",
       " ('PacketLengthMean', 0),\n",
       " ('PacketLengthStd', 0),\n",
       " ('PacketLengthVariance', 0),\n",
       " ('FINFlagCount', 0),\n",
       " ('SYNFlagCount', 0),\n",
       " ('RSTFlagCount', 0),\n",
       " ('PSHFlagCount', 0),\n",
       " ('ACKFlagCount', 0),\n",
       " ('URGFlagCount', 0),\n",
       " ('CWEFlagCount', 0),\n",
       " ('ECEFlagCount', 0),\n",
       " ('Down/UpRatio', 0),\n",
       " ('AveragePacketSize', 0),\n",
       " ('AvgFwdSegmentSize', 0),\n",
       " ('AvgBwdSegmentSize', 0),\n",
       " ('FwdHeaderLength.1', 0),\n",
       " ('FwdAvgBytes/Bulk', 0),\n",
       " ('FwdAvgPackets/Bulk', 0),\n",
       " ('FwdAvgBulkRate', 0),\n",
       " ('BwdAvgBytes/Bulk', 0),\n",
       " ('BwdAvgPackets/Bulk', 0),\n",
       " ('BwdAvgBulkRate', 0),\n",
       " ('SubflowFwdPackets', 0),\n",
       " ('SubflowFwdBytes', 0),\n",
       " ('SubflowBwdPackets', 0),\n",
       " ('SubflowBwdBytes', 0),\n",
       " ('Init_Win_bytes_forward', 0),\n",
       " ('Init_Win_bytes_backward', 0),\n",
       " ('act_data_pkt_fwd', 0),\n",
       " ('min_seg_size_forward', 0),\n",
       " ('ActiveMean', 0),\n",
       " ('ActiveStd', 0),\n",
       " ('ActiveMax', 0),\n",
       " ('ActiveMin', 0),\n",
       " ('IdleMean', 0),\n",
       " ('IdleStd', 0),\n",
       " ('IdleMax', 0),\n",
       " ('IdleMin', 0),\n",
       " ('Target', 0)]"
      ]
     },
     "execution_count": 8,
     "metadata": {},
     "output_type": "execute_result"
    }
   ],
   "source": [
    "[(c,np.isinf(df_treino[c]).sum()) for c in df_treino.columns]"
   ]
  },
  {
   "cell_type": "markdown",
   "id": "6e2ca9b4",
   "metadata": {},
   "source": [
    " <font size=\"4\">Fixing NULL and infinite values </font>"
   ]
  },
  {
   "cell_type": "code",
   "execution_count": 9,
   "id": "a2d86be7",
   "metadata": {},
   "outputs": [],
   "source": [
    "df_treino = df_treino[~df_treino[\"FlowBytes/s\"].isnull()]\n",
    "df_treino = df_treino[~np.isinf(df_treino[\"FlowBytes/s\"])]\n",
    "df_treino = df_treino[~np.isinf(df_treino[\"FlowPackets/s\"])]"
   ]
  },
  {
   "cell_type": "code",
   "execution_count": 10,
   "id": "ba0d101a",
   "metadata": {},
   "outputs": [],
   "source": [
    "df_teste = df_teste[~df_teste[\"FlowBytes/s\"].isnull()]\n",
    "df_teste = df_teste[~np.isinf(df_teste[\"FlowBytes/s\"])]\n",
    "df_teste = df_teste[~np.isinf(df_teste[\"FlowPackets/s\"])]"
   ]
  },
  {
   "cell_type": "markdown",
   "id": "727010e4",
   "metadata": {},
   "source": [
    " <font size=\"4\">Fixed File</font>"
   ]
  },
  {
   "cell_type": "code",
   "execution_count": 11,
   "id": "5de963ce",
   "metadata": {
    "scrolled": true
   },
   "outputs": [
    {
     "data": {
      "text/plain": [
       "DestinationPort            0\n",
       "FlowDuration               0\n",
       "TotalFwdPackets            0\n",
       "TotalBackwardPackets       0\n",
       "TotalLengthofFwdPackets    0\n",
       "TotalLengthofBwdPackets    0\n",
       "FwdPacketLengthMax         0\n",
       "FwdPacketLengthMin         0\n",
       "FwdPacketLengthMean        0\n",
       "FwdPacketLengthStd         0\n",
       "BwdPacketLengthMax         0\n",
       "BwdPacketLengthMin         0\n",
       "BwdPacketLengthMean        0\n",
       "BwdPacketLengthStd         0\n",
       "FlowBytes/s                0\n",
       "FlowPackets/s              0\n",
       "FlowIATMean                0\n",
       "FlowIATStd                 0\n",
       "FlowIATMax                 0\n",
       "FlowIATMin                 0\n",
       "FwdIATTotal                0\n",
       "FwdIATMean                 0\n",
       "FwdIATStd                  0\n",
       "FwdIATMax                  0\n",
       "FwdIATMin                  0\n",
       "BwdIATTotal                0\n",
       "BwdIATMean                 0\n",
       "BwdIATStd                  0\n",
       "BwdIATMax                  0\n",
       "BwdIATMin                  0\n",
       "FwdPSHFlags                0\n",
       "BwdPSHFlags                0\n",
       "FwdURGFlags                0\n",
       "BwdURGFlags                0\n",
       "FwdHeaderLength            0\n",
       "BwdHeaderLength            0\n",
       "FwdPackets/s               0\n",
       "BwdPackets/s               0\n",
       "MinPacketLength            0\n",
       "MaxPacketLength            0\n",
       "PacketLengthMean           0\n",
       "PacketLengthStd            0\n",
       "PacketLengthVariance       0\n",
       "FINFlagCount               0\n",
       "SYNFlagCount               0\n",
       "RSTFlagCount               0\n",
       "PSHFlagCount               0\n",
       "ACKFlagCount               0\n",
       "URGFlagCount               0\n",
       "CWEFlagCount               0\n",
       "ECEFlagCount               0\n",
       "Down/UpRatio               0\n",
       "AveragePacketSize          0\n",
       "AvgFwdSegmentSize          0\n",
       "AvgBwdSegmentSize          0\n",
       "FwdHeaderLength.1          0\n",
       "FwdAvgBytes/Bulk           0\n",
       "FwdAvgPackets/Bulk         0\n",
       "FwdAvgBulkRate             0\n",
       "BwdAvgBytes/Bulk           0\n",
       "BwdAvgPackets/Bulk         0\n",
       "BwdAvgBulkRate             0\n",
       "SubflowFwdPackets          0\n",
       "SubflowFwdBytes            0\n",
       "SubflowBwdPackets          0\n",
       "SubflowBwdBytes            0\n",
       "Init_Win_bytes_forward     0\n",
       "Init_Win_bytes_backward    0\n",
       "act_data_pkt_fwd           0\n",
       "min_seg_size_forward       0\n",
       "ActiveMean                 0\n",
       "ActiveStd                  0\n",
       "ActiveMax                  0\n",
       "ActiveMin                  0\n",
       "IdleMean                   0\n",
       "IdleStd                    0\n",
       "IdleMax                    0\n",
       "IdleMin                    0\n",
       "Target                     0\n",
       "dtype: int64"
      ]
     },
     "execution_count": 11,
     "metadata": {},
     "output_type": "execute_result"
    }
   ],
   "source": [
    "pd.set_option('display.max_rows', len(df_treino.columns))\n",
    "df_treino.isnull().sum()"
   ]
  },
  {
   "cell_type": "code",
   "execution_count": 12,
   "id": "8649fce8",
   "metadata": {},
   "outputs": [
    {
     "data": {
      "text/plain": [
       "(691406, 79)"
      ]
     },
     "execution_count": 12,
     "metadata": {},
     "output_type": "execute_result"
    }
   ],
   "source": [
    "df_teste.shape"
   ]
  },
  {
   "cell_type": "markdown",
   "id": "0759f52c",
   "metadata": {},
   "source": [
    " <font size=\"4\">Retirando teste de treino</font>"
   ]
  },
  {
   "cell_type": "code",
   "execution_count": 13,
   "id": "7d97b0d2",
   "metadata": {},
   "outputs": [],
   "source": [
    "teste = df_teste[~df_teste.apply(tuple,1).isin(df_treino.apply(tuple,1))]"
   ]
  },
  {
   "cell_type": "code",
   "execution_count": 14,
   "id": "77e6986c",
   "metadata": {},
   "outputs": [
    {
     "data": {
      "text/plain": [
       "(561179, 79)"
      ]
     },
     "execution_count": 14,
     "metadata": {},
     "output_type": "execute_result"
    }
   ],
   "source": [
    "teste.shape"
   ]
  },
  {
   "cell_type": "markdown",
   "id": "b47c3a11",
   "metadata": {},
   "source": [
    " <font size=\"4\">Y and X for test and train</font>"
   ]
  },
  {
   "cell_type": "code",
   "execution_count": 15,
   "id": "0b5ae8d7",
   "metadata": {},
   "outputs": [
    {
     "name": "stdout",
     "output_type": "stream",
     "text": [
      "(69139, 79) (48397, 78) (20742, 78) (48397,) (20742,)\n"
     ]
    }
   ],
   "source": [
    "y = df_treino['Target']\n",
    "x = df_treino.drop('Target', axis = 1)\n",
    "x_treino, x_teste, y_treino, y_teste = train_test_split(x, y, test_size = 0.3)\n",
    "print(df_treino.shape, x_treino.shape, x_teste.shape, y_treino.shape, y_teste.shape)"
   ]
  },
  {
   "cell_type": "code",
   "execution_count": 16,
   "id": "9652d64d",
   "metadata": {},
   "outputs": [],
   "source": [
    "y_validation = teste['Target']\n",
    "x_validation = teste.drop('Target', axis = 1)"
   ]
  },
  {
   "cell_type": "markdown",
   "id": "668abcaa",
   "metadata": {},
   "source": [
    " <font size=\"4\">Fit RandomForest Model</font>"
   ]
  },
  {
   "cell_type": "code",
   "execution_count": 17,
   "id": "9725d990",
   "metadata": {
    "scrolled": true
   },
   "outputs": [
    {
     "name": "stdout",
     "output_type": "stream",
     "text": [
      "                         importance\n",
      "PacketLengthVariance       0.165231\n",
      "MaxPacketLength            0.110958\n",
      "TotalLengthofBwdPackets    0.099130\n",
      "PacketLengthMean           0.069865\n",
      "BwdPacketLengthStd         0.068451\n",
      "DestinationPort            0.055614\n",
      "BwdPacketLengthMean        0.053176\n",
      "FwdIATMean                 0.044634\n",
      "AveragePacketSize          0.026393\n",
      "Init_Win_bytes_backward    0.024814\n",
      "FwdPacketLengthMean        0.020607\n",
      "FwdPacketLengthMax         0.019913\n",
      "FwdHeaderLength.1          0.019638\n",
      "SubflowFwdBytes            0.019485\n",
      "BwdHeaderLength            0.018911\n",
      "BwdPacketLengthMax         0.017477\n",
      "Init_Win_bytes_forward     0.015688\n",
      "FwdIATTotal                0.015074\n",
      "PacketLengthStd            0.012549\n",
      "AvgFwdSegmentSize          0.008034\n",
      "TotalFwdPackets            0.007727\n",
      "SubflowFwdPackets          0.007521\n",
      "FlowDuration               0.007169\n",
      "FlowPackets/s              0.007049\n",
      "FlowBytes/s                0.006619\n",
      "SubflowBwdBytes            0.006511\n",
      "FlowIATMax                 0.005496\n",
      "FlowIATMean                0.005229\n",
      "FwdPackets/s               0.004998\n",
      "BwdPackets/s               0.004314\n",
      "FINFlagCount               0.004044\n",
      "FlowIATMin                 0.004031\n",
      "TotalBackwardPackets       0.004003\n",
      "AvgBwdSegmentSize          0.003481\n",
      "BwdIATStd                  0.003343\n",
      "FwdIATMin                  0.003248\n",
      "ActiveStd                  0.002824\n",
      "FwdIATStd                  0.002730\n",
      "FwdIATMax                  0.002560\n",
      "FwdPacketLengthMin         0.001929\n",
      "URGFlagCount               0.001723\n",
      "BwdIATMin                  0.001695\n",
      "min_seg_size_forward       0.001682\n",
      "IdleMin                    0.001676\n",
      "SubflowBwdPackets          0.001423\n",
      "FwdHeaderLength            0.001406\n",
      "Down/UpRatio               0.001329\n",
      "TotalLengthofFwdPackets    0.001217\n",
      "BwdIATTotal                0.001209\n",
      "BwdIATMax                  0.000955\n",
      "FlowIATStd                 0.000866\n",
      "FwdPacketLengthStd         0.000762\n",
      "IdleMax                    0.000718\n",
      "BwdIATMean                 0.000460\n",
      "ACKFlagCount               0.000375\n",
      "MinPacketLength            0.000356\n",
      "BwdPacketLengthMin         0.000347\n",
      "act_data_pkt_fwd           0.000338\n",
      "ActiveMin                  0.000317\n",
      "IdleMean                   0.000192\n",
      "PSHFlagCount               0.000133\n",
      "IdleStd                    0.000117\n",
      "FwdPSHFlags                0.000108\n",
      "ActiveMean                 0.000052\n",
      "ActiveMax                  0.000041\n",
      "SYNFlagCount               0.000034\n",
      "BwdAvgBulkRate             0.000000\n",
      "RSTFlagCount               0.000000\n",
      "BwdAvgPackets/Bulk         0.000000\n",
      "BwdAvgBytes/Bulk           0.000000\n",
      "FwdAvgBulkRate             0.000000\n",
      "FwdAvgPackets/Bulk         0.000000\n",
      "FwdAvgBytes/Bulk           0.000000\n",
      "BwdPSHFlags                0.000000\n",
      "FwdURGFlags                0.000000\n",
      "BwdURGFlags                0.000000\n",
      "ECEFlagCount               0.000000\n",
      "CWEFlagCount               0.000000\n",
      "\n",
      "\n",
      "Random Forest\n",
      "\n",
      "Confusion_Matrix: \n",
      " [[13108    11]\n",
      " [   28  7595]]\n",
      "Precision: 0.9985537733368394\n",
      "Recall: 0.9963269054178145\n",
      "False Negatives Rate: 0.0036730945821854912\n",
      "F1: 0.9974390964607\n"
     ]
    }
   ],
   "source": [
    "# Revisar... Parametros Tirar atributos zerados \n",
    "#Checar top10 variaveis mais importantes\n",
    "\n",
    "RandomForestModel = RandomForestClassifier(n_estimators=10, random_state=42)\n",
    "RandomForestModel.fit(x_treino, y_treino)\n",
    "\n",
    "\n",
    "\n",
    "feature_importances_RandomForestModel = pd.DataFrame(RandomForestModel.feature_importances_,\n",
    "                                   index = x_treino.columns,\n",
    "                                   columns=['importance']).sort_values('importance', ascending=False)\n",
    "print(feature_importances_RandomForestModel)\n",
    "\n",
    "print('\\n\\nRandom Forest\\n')\n",
    "random_forest_confusion_matrix = (confusion_matrix(y_teste, RandomForestModel.predict(x_teste)))\n",
    "random_forest_precision = (random_forest_confusion_matrix[1,1]/(random_forest_confusion_matrix[1,1]+random_forest_confusion_matrix[0,1]))\n",
    "random_forest_recall = (random_forest_confusion_matrix[1,1]/(random_forest_confusion_matrix[1,1]+random_forest_confusion_matrix[1,0]))\n",
    "random_forest_False_Negatives_Rate = (random_forest_confusion_matrix[1,0]/(random_forest_confusion_matrix[1,0]+random_forest_confusion_matrix[1,1]))\n",
    "random_forest_F1 = ((2*random_forest_precision*random_forest_recall)/(random_forest_precision+random_forest_recall))\n",
    "\n",
    "print('Confusion_Matrix: \\n', random_forest_confusion_matrix)\n",
    "print('Precision:', random_forest_precision)\n",
    "print('Recall:', random_forest_recall)\n",
    "print('False Negatives Rate:', random_forest_False_Negatives_Rate)\n",
    "print('F1:', random_forest_F1)"
   ]
  },
  {
   "cell_type": "code",
   "execution_count": 18,
   "id": "8eca0e75",
   "metadata": {},
   "outputs": [
    {
     "name": "stdout",
     "output_type": "stream",
     "text": [
      "\n",
      "\n",
      "Random Forest\n",
      "\n",
      "Confusion_Matrix: \n",
      " [[384573    324]\n",
      " [   619 175663]]\n",
      "Precision: 0.9981589549228068\n",
      "Recall: 0.996488580796678\n",
      "False Negatives Rate: 0.00351141920332195\n",
      "F1: 0.9973230684505308\n"
     ]
    }
   ],
   "source": [
    "#For ROC curve\n",
    "Y_pred_random_forest = RandomForestModel.predict_proba(x_validation)\n",
    "Y_pred_random_forest = [c[1] for c in Y_pred_random_forest]\n",
    "\n",
    "\n",
    "\n",
    "print('\\n\\nRandom Forest\\n')\n",
    "random_forest_confusion_matrix = (confusion_matrix(y_validation, RandomForestModel.predict(x_validation)))\n",
    "random_forest_precision = (random_forest_confusion_matrix[1,1]/(random_forest_confusion_matrix[1,1]+random_forest_confusion_matrix[0,1]))\n",
    "random_forest_recall = (random_forest_confusion_matrix[1,1]/(random_forest_confusion_matrix[1,1]+random_forest_confusion_matrix[1,0]))\n",
    "random_forest_False_Negatives_Rate = (random_forest_confusion_matrix[1,0]/(random_forest_confusion_matrix[1,0]+random_forest_confusion_matrix[1,1]))\n",
    "random_forest_F1 = ((2*random_forest_precision*random_forest_recall)/(random_forest_precision+random_forest_recall))\n",
    "\n",
    "print('Confusion_Matrix: \\n', random_forest_confusion_matrix)\n",
    "print('Precision:', random_forest_precision)\n",
    "print('Recall:', random_forest_recall)\n",
    "print('False Negatives Rate:', random_forest_False_Negatives_Rate)\n",
    "print('F1:', random_forest_F1)"
   ]
  },
  {
   "cell_type": "markdown",
   "id": "0f98696e",
   "metadata": {},
   "source": [
    " <font size=\"4\">Fit Neural Network Model</font>"
   ]
  },
  {
   "cell_type": "code",
   "execution_count": 19,
   "id": "8587cda4",
   "metadata": {
    "scrolled": false
   },
   "outputs": [
    {
     "name": "stdout",
     "output_type": "stream",
     "text": [
      "Neural Network\n",
      "\n",
      "Confusion_Matrix: \n",
      " [[13032    87]\n",
      " [  610  7013]]\n",
      "Precision: 0.9877464788732394\n",
      "Recall: 0.9199790108881017\n",
      "False Negatives Rate: 0.0800209891118982\n",
      "F1: 0.9526591048020104\n"
     ]
    }
   ],
   "source": [
    "NeuralNetworkModel = MLPClassifier(#solver = 'adam',\n",
    "                                 # alpha=1e-5,\n",
    "                                 # hidden_layer_sizes = (16,8),\n",
    "                                  #random_state=1,\n",
    "                                  #max_iter=150\n",
    "                                )\n",
    "\n",
    "NeuralNetworkModel.fit(x_treino, y_treino)\n",
    "\n",
    "\n",
    "#Feature Importance\n",
    "\n",
    "print('Neural Network\\n')\n",
    "NeuralNetworkMatrix = (confusion_matrix(y_teste, NeuralNetworkModel.predict(x_teste)))\n",
    "NeuralPrecision = (NeuralNetworkMatrix[1,1]/(NeuralNetworkMatrix[1,1]+NeuralNetworkMatrix[0,1]))\n",
    "NeuralRecall = (NeuralNetworkMatrix[1,1]/(NeuralNetworkMatrix[1,1]+NeuralNetworkMatrix[1,0]))\n",
    "NeuralNegativesRate = (NeuralNetworkMatrix[1,0]/(NeuralNetworkMatrix[1,0]+NeuralNetworkMatrix[1,1]))\n",
    "NeuralF1 = ((2*NeuralPrecision*NeuralRecall)/(NeuralPrecision+NeuralRecall))\n",
    "\n",
    "print('Confusion_Matrix: \\n', NeuralNetworkMatrix)\n",
    "print('Precision:', NeuralPrecision)\n",
    "print('Recall:', NeuralRecall)\n",
    "print('False Negatives Rate:', NeuralNegativesRate)\n",
    "print('F1:', NeuralF1)\n"
   ]
  },
  {
   "cell_type": "code",
   "execution_count": 20,
   "id": "4e1a188f",
   "metadata": {
    "scrolled": true
   },
   "outputs": [
    {
     "name": "stdout",
     "output_type": "stream",
     "text": [
      "Neural Network\n",
      "\n",
      "Confusion_Matrix: \n",
      " [[382333   2564]\n",
      " [ 15411 160871]]\n",
      "Precision: 0.9843118059167253\n",
      "Recall: 0.9125775745680217\n",
      "False Negatives Rate: 0.08742242543197831\n",
      "F1: 0.9470883117418321\n"
     ]
    }
   ],
   "source": [
    "Y_pred_neural_network = NeuralNetworkModel.predict_proba(x_validation)\n",
    "Y_pred_neural_network = [c[1] for c in Y_pred_neural_network]\n",
    "\n",
    "\n",
    "#Feature Importance\n",
    "\n",
    "print('Neural Network\\n')\n",
    "NeuralNetworkMatrix = (confusion_matrix(y_validation, NeuralNetworkModel.predict(x_validation)))\n",
    "NeuralPrecision = (NeuralNetworkMatrix[1,1]/(NeuralNetworkMatrix[1,1]+NeuralNetworkMatrix[0,1]))\n",
    "NeuralRecall = (NeuralNetworkMatrix[1,1]/(NeuralNetworkMatrix[1,1]+NeuralNetworkMatrix[1,0]))\n",
    "NeuralNegativesRate = (NeuralNetworkMatrix[1,0]/(NeuralNetworkMatrix[1,0]+NeuralNetworkMatrix[1,1]))\n",
    "NeuralF1 = ((2*NeuralPrecision*NeuralRecall)/(NeuralPrecision+NeuralRecall))\n",
    "\n",
    "print('Confusion_Matrix: \\n', NeuralNetworkMatrix)\n",
    "print('Precision:', NeuralPrecision)\n",
    "print('Recall:', NeuralRecall)\n",
    "print('False Negatives Rate:', NeuralNegativesRate)\n",
    "print('F1:', NeuralF1)"
   ]
  },
  {
   "cell_type": "markdown",
   "id": "b36096a7",
   "metadata": {},
   "source": [
    " <font size=\"4\">Fit SVC Classifier Model</font>"
   ]
  },
  {
   "cell_type": "code",
   "execution_count": 21,
   "id": "95484a73",
   "metadata": {
    "scrolled": false
   },
   "outputs": [],
   "source": [
    "# svclassifierModel = SVC(max_iter = 200, probability = True)\n",
    "\n",
    "# svclassifierModel.fit(x_treino, y_treino)\n",
    "\n",
    "\n",
    "# print('SVC classifier Model\\n')\n",
    "# SVCMatrix = (confusion_matrix(y_teste, svclassifierModel.predict(x_teste)))\n",
    "# SVCPrecision = (SVCMatrix[1,1]/(SVCMatrix[1,1]+SVCMatrix[0,1]))\n",
    "# SVCRecall = (SVCMatrix[1,1]/(SVCMatrix[1,1]+SVCMatrix[1,0]))\n",
    "# SVCNegativesRate = (SVCMatrix[1,0]/(SVCMatrix[1,0]+SVCMatrix[1,1]))\n",
    "# SVCF1 = ((2*SVCPrecision*SVCRecall)/(SVCPrecision+SVCRecall))\n",
    "\n",
    "# print('Confusion_Matrix: \\n', SVCMatrix)\n",
    "# print('Precision:', SVCPrecision)\n",
    "# print('Recall:', SVCRecall)\n",
    "# print('False Negatives Rate:', SVCNegativesRate)\n",
    "# print('F1:', SVCF1)"
   ]
  },
  {
   "cell_type": "code",
   "execution_count": 22,
   "id": "f04cb2cf",
   "metadata": {},
   "outputs": [],
   "source": [
    "# #For ROC curve\n",
    "# y_pred_svc = svclassifierModel.predict_proba(x_validation)\n",
    "# y_pred_svc = [c[1] for c in y_pred_svc]\n",
    "\n",
    "\n",
    "# print('SVC classifier Model\\n')\n",
    "# SVCMatrix = (confusion_matrix(y_validation, svclassifierModel.predict(x_validation)))\n",
    "# SVCPrecision = (SVCMatrix[1,1]/(SVCMatrix[1,1]+SVCMatrix[0,1]))\n",
    "# SVCRecall = (SVCMatrix[1,1]/(SVCMatrix[1,1]+SVCMatrix[1,0]))\n",
    "# SVCNegativesRate = (SVCMatrix[1,0]/(SVCMatrix[1,0]+SVCMatrix[1,1]))\n",
    "# SVCF1 = ((2*SVCPrecision*SVCRecall)/(SVCPrecision+SVCRecall))\n",
    "\n",
    "# print('Confusion_Matrix: \\n', SVCMatrix)\n",
    "# print('Precision:', SVCPrecision)\n",
    "# print('Recall:', SVCRecall)\n",
    "# print('False Negatives Rate:', SVCNegativesRate)\n",
    "# print('F1:', SVCF1)"
   ]
  },
  {
   "cell_type": "markdown",
   "id": "7703eda3",
   "metadata": {},
   "source": [
    " <font size=\"4\">Fit LogisticRegression Model</font>"
   ]
  },
  {
   "cell_type": "code",
   "execution_count": 23,
   "id": "c42e0487",
   "metadata": {
    "scrolled": false
   },
   "outputs": [
    {
     "name": "stdout",
     "output_type": "stream",
     "text": [
      "[[-1.04920835e-04  6.00412146e-07 -4.75351008e-08 -4.81777364e-08\n",
      "  -8.30516220e-06 -5.70925912e-08 -4.31207021e-06 -5.86154434e-07\n",
      "  -1.53180906e-06 -1.45937689e-06 -1.23395583e-06 -1.65709943e-06\n",
      "  -1.63474503e-06  1.34855107e-07 -2.72535448e-08 -2.09566946e-05\n",
      "  -4.28337604e-06  4.19768732e-06 -2.04368120e-06  5.09133199e-06\n",
      "  -6.08717600e-07 -8.15593629e-08 -4.47053400e-07  1.29133268e-06\n",
      "   9.92525644e-09 -6.88322175e-07  1.69390314e-06 -2.02543716e-06\n",
      "   1.20548615e-06 -2.54363661e-06 -6.00666949e-10  0.00000000e+00\n",
      "   0.00000000e+00  0.00000000e+00 -1.11004199e-06 -1.17160442e-06\n",
      "   2.29118907e-05 -5.73224049e-05 -6.43949307e-07 -3.98988054e-06\n",
      "  -1.41471947e-06 -1.29622079e-06  1.21061546e-06  4.46738355e-10\n",
      "  -6.00666949e-10 -6.71266540e-12 -2.27271341e-09 -1.23734453e-09\n",
      "  -1.37176739e-09  0.00000000e+00 -6.71266540e-12 -1.54687539e-08\n",
      "  -1.75356182e-06 -1.53180906e-06 -1.63474503e-06 -1.11004199e-06\n",
      "   0.00000000e+00  0.00000000e+00  0.00000000e+00  0.00000000e+00\n",
      "   0.00000000e+00  0.00000000e+00 -4.75351008e-08 -8.30516220e-06\n",
      "  -4.81777364e-08 -5.74298859e-08 -5.49717699e-05 -1.89757180e-05\n",
      "  -3.55604011e-08 -4.36171072e-07  7.16163946e-06  9.16242150e-06\n",
      "  -9.11939106e-06  1.97916972e-06  1.58034630e-06 -4.05595534e-06\n",
      "   2.31803372e-06 -3.74337606e-06]]\n",
      "\n",
      "Logistic Regression\n",
      "\n",
      "Confusion_Matrix: \n",
      " [[12521   598]\n",
      " [ 1046  6577]]\n",
      "Precision: 0.9166550522648084\n",
      "Recall: 0.8627836809654992\n",
      "False Negatives Rate: 0.13721631903450085\n",
      "F1: 0.8889039059332343\n"
     ]
    },
    {
     "name": "stderr",
     "output_type": "stream",
     "text": [
      "/home/jupyter/miniconda3/lib/python3.9/site-packages/sklearn/linear_model/_logistic.py:814: ConvergenceWarning: lbfgs failed to converge (status=1):\n",
      "STOP: TOTAL NO. of ITERATIONS REACHED LIMIT.\n",
      "\n",
      "Increase the number of iterations (max_iter) or scale the data as shown in:\n",
      "    https://scikit-learn.org/stable/modules/preprocessing.html\n",
      "Please also refer to the documentation for alternative solver options:\n",
      "    https://scikit-learn.org/stable/modules/linear_model.html#logistic-regression\n",
      "  n_iter_i = _check_optimize_result(\n"
     ]
    }
   ],
   "source": [
    "# Revisar parametros\n",
    "LogisticRegressionModel = LogisticRegression(solver='lbfgs',max_iter=2000)\n",
    "LogisticRegressionModel.fit(x_treino, y_treino)\n",
    "\n",
    "\n",
    "print(LogisticRegressionModel.coef_)\n",
    "\n",
    "print('\\nLogistic Regression\\n')\n",
    "logreg_confusion_matrix = (confusion_matrix(y_teste, LogisticRegressionModel.predict(x_teste)))\n",
    "logreg_precision = (logreg_confusion_matrix[1,1]/(logreg_confusion_matrix[1,1]+logreg_confusion_matrix[0,1]))\n",
    "logreg_recall = (logreg_confusion_matrix[1,1]/(logreg_confusion_matrix[1,1]+logreg_confusion_matrix[1,0]))\n",
    "logreg_False_Negatives_Rate = (logreg_confusion_matrix[1,0]/(logreg_confusion_matrix[1,0]+logreg_confusion_matrix[1,1]))\n",
    "logreg_F1 = ((2*logreg_precision*logreg_recall)/(logreg_precision+logreg_recall))\n",
    "\n",
    "print('Confusion_Matrix: \\n', logreg_confusion_matrix)\n",
    "print('Precision:', logreg_precision)\n",
    "print('Recall:', logreg_recall)\n",
    "print('False Negatives Rate:', logreg_False_Negatives_Rate)\n",
    "print('F1:', logreg_F1)"
   ]
  },
  {
   "cell_type": "code",
   "execution_count": 24,
   "id": "c8deed47",
   "metadata": {
    "scrolled": true
   },
   "outputs": [
    {
     "name": "stdout",
     "output_type": "stream",
     "text": [
      "\n",
      "Logistic Regression\n",
      "\n",
      "Confusion_Matrix: \n",
      " [[373818  11079]\n",
      " [ 22327 153955]]\n",
      "Precision: 0.9328683786371293\n",
      "Recall: 0.8733449813367219\n",
      "False Negatives Rate: 0.12665501866327816\n",
      "F1: 0.9021258892053112\n"
     ]
    }
   ],
   "source": [
    "Y_pred_logreg =LogisticRegressionModel.predict_proba(x_validation)\n",
    "Y_pred_logreg = [c[1] for c in Y_pred_logreg]\n",
    "\n",
    "\n",
    "print('\\nLogistic Regression\\n')\n",
    "logreg_confusion_matrix = (confusion_matrix(y_validation, LogisticRegressionModel.predict(x_validation)))\n",
    "logreg_precision = (logreg_confusion_matrix[1,1]/(logreg_confusion_matrix[1,1]+logreg_confusion_matrix[0,1]))\n",
    "logreg_recall = (logreg_confusion_matrix[1,1]/(logreg_confusion_matrix[1,1]+logreg_confusion_matrix[1,0]))\n",
    "logreg_False_Negatives_Rate = (logreg_confusion_matrix[1,0]/(logreg_confusion_matrix[1,0]+logreg_confusion_matrix[1,1]))\n",
    "logreg_F1 = ((2*logreg_precision*logreg_recall)/(logreg_precision+logreg_recall))\n",
    "\n",
    "print('Confusion_Matrix: \\n', logreg_confusion_matrix)\n",
    "print('Precision:', logreg_precision)\n",
    "print('Recall:', logreg_recall)\n",
    "print('False Negatives Rate:', logreg_False_Negatives_Rate)\n",
    "print('F1:', logreg_F1)"
   ]
  },
  {
   "cell_type": "markdown",
   "id": "0c399ed1",
   "metadata": {},
   "source": [
    " <font size=\"4\">ROC curve</font>"
   ]
  },
  {
   "cell_type": "code",
   "execution_count": 25,
   "id": "d9ef5d4e",
   "metadata": {},
   "outputs": [],
   "source": [
    "r_probs = [0 for _ in range(len(y_teste))]\n",
    "r_auc = roc_auc_score(y_teste, r_probs)\n",
    "r_fpr, r_tpr, _ = roc_curve(y_teste, r_probs)\n"
   ]
  },
  {
   "cell_type": "code",
   "execution_count": 26,
   "id": "0ad12c97",
   "metadata": {
    "scrolled": false
   },
   "outputs": [
    {
     "data": {
      "image/png": "[encoded data removed]",
      "text/plain": [
       "<Figure size 500x500 with 1 Axes>"
      ]
     },
     "metadata": {
      "needs_background": "light"
     },
     "output_type": "display_data"
    }
   ],
   "source": [
    "logistic_fpr, logistic_tpr, threshold = roc_curve(y_validation, Y_pred_logreg)\n",
    "auc_logistic = auc(logistic_fpr, logistic_tpr)\n",
    "\n",
    "Y_pred_random_forest_fpr, Y_pred_random_forest_tpr, threshold = roc_curve(y_validation, Y_pred_random_forest)\n",
    "auc_Y_pred_random_forest = auc(Y_pred_random_forest_fpr, Y_pred_random_forest_tpr)\n",
    "\n",
    "Y_pred_neural_network_fpr, Y_pred_neural_network_tpr, threshold = roc_curve(y_validation, Y_pred_neural_network)\n",
    "auc_Y_pred_neural_network = auc(Y_pred_neural_network_fpr, Y_pred_neural_network_tpr)\n",
    "\n",
    "#y_pred_svc_fpr, y_pred_svc_tpr, threshold = roc_curve(y_validation, y_pred_svc)\n",
    "#auc_Y_pred_svc = auc(y_pred_svc_fpr, y_pred_svc_tpr)\n",
    "\n",
    "\n",
    "plt.figure(figsize=(5, 5), dpi=100)\n",
    "\n",
    "plt.plot(r_fpr, r_tpr, linestyle='--', label='Random prediction (auc = %f)' % r_auc)\n",
    "\n",
    "plt.plot(logistic_fpr, logistic_tpr, marker='.', label='Logistic Regression (auc = %f)' % auc_logistic)\n",
    "\n",
    "plt.plot(Y_pred_random_forest_fpr, Y_pred_random_forest_tpr, marker='.', label='Random Forest (auc = %f)' % auc_Y_pred_random_forest)\n",
    "\n",
    "plt.plot(Y_pred_neural_network_fpr, Y_pred_neural_network_tpr, marker='.', label='Neural Network (auc = %f)' % auc_Y_pred_neural_network)\n",
    "\n",
    "#plt.plot(y_pred_svc_fpr, y_pred_svc_tpr, marker='.', label='SVC (auc = %f)' % auc_Y_pred_svc)\n",
    "\n",
    "\n",
    "plt.xlabel('False Positive Rate -->')\n",
    "plt.ylabel('True Positive Rate -->')\n",
    "\n",
    "plt.legend()\n",
    "\n",
    "plt.show()"
   ]
  },
  {
   "cell_type": "code",
   "execution_count": null,
   "id": "688f3596",
   "metadata": {},
   "outputs": [],
   "source": []
  }
 ],
 "metadata": {
  "kernelspec": {
   "display_name": "Python 3 (ipykernel)",
   "language": "python",
   "name": "python3"
  },
  "language_info": {
   "codemirror_mode": {
    "name": "ipython",
    "version": 3
   },
   "file_extension": ".py",
   "mimetype": "text/x-python",
   "name": "python",
   "nbconvert_exporter": "python",
   "pygments_lexer": "ipython3",
   "version": "3.9.5"
  }
 },
 "nbformat": 4,
 "nbformat_minor": 5
}
