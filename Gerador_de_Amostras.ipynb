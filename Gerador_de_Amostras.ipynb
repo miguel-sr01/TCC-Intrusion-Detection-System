{
 "cells": [
  {
   "cell_type": "code",
   "execution_count": 1,
   "id": "5ba52401",
   "metadata": {},
   "outputs": [],
   "source": [
    "import pandas as pd"
   ]
  },
  {
   "cell_type": "code",
   "execution_count": 20,
   "id": "810f2cf3",
   "metadata": {},
   "outputs": [],
   "source": [
    "df1 = pd.read_csv('/home/jupyter/Jupyter/notebook/share/Dados/Friday-WorkingHours-Afternoon-DDos.pcap_ISCX.csv',sep=',')\n",
    "df1.columns = df1.columns.str.replace(' ', '')"
   ]
  },
  {
   "cell_type": "code",
   "execution_count": 3,
   "id": "50d5e934",
   "metadata": {},
   "outputs": [],
   "source": [
    "df2 = pd.read_csv('/home/jupyter/Jupyter/notebook/share/Dados/Monday-WorkingHours.pcap_ISCX.csv',sep=',')\n",
    "df2.columns = df2.columns.str.replace(' ', '')"
   ]
  },
  {
   "cell_type": "code",
   "execution_count": 21,
   "id": "71cb9c45",
   "metadata": {},
   "outputs": [
    {
     "data": {
      "text/plain": [
       "Label\n",
       "BENIGN     97718\n",
       "DDoS      128027\n",
       "Name: DestinationPort, dtype: int64"
      ]
     },
     "execution_count": 21,
     "metadata": {},
     "output_type": "execute_result"
    }
   ],
   "source": [
    "df1.groupby(\"Label\").count()[\"DestinationPort\"]"
   ]
  },
  {
   "cell_type": "code",
   "execution_count": 5,
   "id": "f7f9bed3",
   "metadata": {},
   "outputs": [
    {
     "data": {
      "text/plain": [
       "Label\n",
       "BENIGN    529918\n",
       "Name: DestinationPort, dtype: int64"
      ]
     },
     "execution_count": 5,
     "metadata": {},
     "output_type": "execute_result"
    }
   ],
   "source": [
    "df2.groupby(\"Label\").count()[\"DestinationPort\"]"
   ]
  },
  {
   "cell_type": "code",
   "execution_count": null,
   "id": "51d75143",
   "metadata": {},
   "outputs": [],
   "source": [
    "df_ataque1 = df1[(df1[\"Label\"] == \"Web Attack � Brute Force\")]"
   ]
  },
  {
   "cell_type": "code",
   "execution_count": null,
   "id": "5c135067",
   "metadata": {},
   "outputs": [],
   "source": [
    "df_ataque1.groupby(\"Label\").count()[\"DestinationPort\"]"
   ]
  },
  {
   "cell_type": "code",
   "execution_count": null,
   "id": "e645d47d",
   "metadata": {},
   "outputs": [],
   "source": [
    "dfJunto = pd.concat([df_ataque1, df2])"
   ]
  },
  {
   "cell_type": "code",
   "execution_count": null,
   "id": "e38b5654",
   "metadata": {},
   "outputs": [],
   "source": [
    "dfJunto.groupby(\"Label\").count()[\"DestinationPort\"]"
   ]
  },
  {
   "cell_type": "code",
   "execution_count": null,
   "id": "06ef1e6d",
   "metadata": {},
   "outputs": [],
   "source": [
    "df_benign = df2[(df2[\"Label\"] == \"BENIGN\")]"
   ]
  },
  {
   "cell_type": "code",
   "execution_count": null,
   "id": "33a246d4",
   "metadata": {},
   "outputs": [],
   "source": [
    "dfBen = df_benign.iloc[:11213,:]\n",
    "#dfBen = df_benign.iloc[11213:,:]"
   ]
  },
  {
   "cell_type": "code",
   "execution_count": null,
   "id": "661010d0",
   "metadata": {},
   "outputs": [],
   "source": [
    "dfBen.groupby(\"Label\").count()[\"DestinationPort\"]"
   ]
  },
  {
   "cell_type": "code",
   "execution_count": null,
   "id": "1d74f13a",
   "metadata": {},
   "outputs": [],
   "source": [
    "dfJunto = pd.concat([df_ataque1, dfBen])"
   ]
  },
  {
   "cell_type": "code",
   "execution_count": null,
   "id": "4b66b56b",
   "metadata": {},
   "outputs": [],
   "source": [
    "dfJunto.groupby(\"Label\").count()[\"DestinationPort\"]"
   ]
  },
  {
   "cell_type": "code",
   "execution_count": null,
   "id": "5e5e7910",
   "metadata": {},
   "outputs": [],
   "source": [
    "dfJunto = pd.concat([df_ataque1, dfBen])"
   ]
  },
  {
   "cell_type": "code",
   "execution_count": null,
   "id": "f463b52f",
   "metadata": {},
   "outputs": [],
   "source": [
    "df_ataque1 = df[(df[\"Label\"] == \"SSH-Patator\")]"
   ]
  },
  {
   "cell_type": "code",
   "execution_count": null,
   "id": "d3a23f73",
   "metadata": {},
   "outputs": [],
   "source": [
    "dfJunto.groupby(\"Label\").count()[\"DestinationPort\"]"
   ]
  },
  {
   "cell_type": "code",
   "execution_count": null,
   "id": "891b663b",
   "metadata": {},
   "outputs": [],
   "source": [
    "df_ataque2 = df[(df[\"Label\"] == \"Web Attack � XSS\")]"
   ]
  },
  {
   "cell_type": "code",
   "execution_count": null,
   "id": "a1a6bfdd",
   "metadata": {},
   "outputs": [],
   "source": [
    "df_ataque2.groupby(\"Label\").count()[\"DestinationPort\"]"
   ]
  },
  {
   "cell_type": "code",
   "execution_count": null,
   "id": "0817ab3d",
   "metadata": {},
   "outputs": [],
   "source": [
    "df_benign = df1[(df1[\"Label\"] == \"BENIGN\")]"
   ]
  },
  {
   "cell_type": "code",
   "execution_count": null,
   "id": "e2f87b8b",
   "metadata": {},
   "outputs": [],
   "source": [
    "df_benign.groupby(\"Label\").count()[\"DestinationPort\"]"
   ]
  },
  {
   "cell_type": "code",
   "execution_count": null,
   "id": "f34effb1",
   "metadata": {},
   "outputs": [],
   "source": [
    "dfBen = df_benign.iloc[:112124,:]\n",
    "#df2 = df_benign.iloc[112125:,:]"
   ]
  },
  {
   "cell_type": "code",
   "execution_count": null,
   "id": "538aded7",
   "metadata": {},
   "outputs": [],
   "source": [
    "df1.groupby(\"Label\").count()[\"DestinationPort\"]"
   ]
  },
  {
   "cell_type": "code",
   "execution_count": null,
   "id": "62cbd7f1",
   "metadata": {},
   "outputs": [],
   "source": [
    "df2.groupby(\"Label\").count()[\"DestinationPort\"]"
   ]
  },
  {
   "cell_type": "code",
   "execution_count": null,
   "id": "e6f4ce69",
   "metadata": {},
   "outputs": [],
   "source": [
    "dfFTP = pd.concat([df_ataque1, df1])"
   ]
  },
  {
   "cell_type": "code",
   "execution_count": null,
   "id": "9a991ed4",
   "metadata": {},
   "outputs": [],
   "source": [
    "dfFTP.groupby(\"Label\").count()[\"DestinationPort\"]"
   ]
  },
  {
   "cell_type": "code",
   "execution_count": null,
   "id": "67c0aeba",
   "metadata": {},
   "outputs": [],
   "source": [
    "dfSSH = pd.concat([df_ataque2, df2])"
   ]
  },
  {
   "cell_type": "code",
   "execution_count": null,
   "id": "735a3c33",
   "metadata": {},
   "outputs": [],
   "source": [
    "dfSSH.groupby(\"Label\").count()[\"DestinationPort\"]"
   ]
  },
  {
   "cell_type": "code",
   "execution_count": 22,
   "id": "0512e6aa",
   "metadata": {},
   "outputs": [],
   "source": [
    "df1.to_csv(path_or_buf = \"/home/jupyter/Jupyter/notebook/share/Dados/AttackOnlyLoit\",index = False, sep = \",\")"
   ]
  },
  {
   "cell_type": "code",
   "execution_count": null,
   "id": "1099dc8a",
   "metadata": {},
   "outputs": [],
   "source": [
    "dfSSH.to_csv(path_or_buf = \"/home/jupyter/Jupyter/notebook/share/Dados/onlyWAXSS.csv\",index = False, sep = \",\")"
   ]
  },
  {
   "cell_type": "code",
   "execution_count": null,
   "id": "8ddec1e3",
   "metadata": {},
   "outputs": [],
   "source": []
  }
 ],
 "metadata": {
  "kernelspec": {
   "display_name": "Python 3 (ipykernel)",
   "language": "python",
   "name": "python3"
  },
  "language_info": {
   "codemirror_mode": {
    "name": "ipython",
    "version": 3
   },
   "file_extension": ".py",
   "mimetype": "text/x-python",
   "name": "python",
   "nbconvert_exporter": "python",
   "pygments_lexer": "ipython3",
   "version": "3.9.5"
  }
 },
 "nbformat": 4,
 "nbformat_minor": 5
}
